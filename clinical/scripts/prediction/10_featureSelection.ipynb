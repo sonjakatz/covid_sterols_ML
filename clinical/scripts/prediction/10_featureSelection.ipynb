{
 "cells": [
  {
   "cell_type": "code",
   "execution_count": 1,
   "metadata": {},
   "outputs": [],
   "source": [
    "import os \n",
    "import pandas as pd \n",
    "import numpy as np\n",
    "from boruta import BorutaPy\n",
    "from preprocessing import imputation_scaling\n",
    "\n",
    "from sklearn.ensemble import RandomForestClassifier"
   ]
  },
  {
   "attachments": {},
   "cell_type": "markdown",
   "metadata": {},
   "source": [
    "# Boruta"
   ]
  },
  {
   "cell_type": "code",
   "execution_count": 3,
   "metadata": {},
   "outputs": [],
   "source": [
    "datasetTimepoint = \"12_uponAdmission\"\n",
    "target = \"disease_severity\"\n",
    "\n",
    "''' \n",
    "Define paths\n",
    "'''\n",
    "dataPath = \"../../results/preprocessing/cleaned\"\n",
    "dataset = f\"{datasetTimepoint}_{target}_cleaned.csv\"\n",
    "resultsPath = f\"../../results/featureSelection/{datasetTimepoint}\"\n",
    "os.makedirs(resultsPath, exist_ok=True)"
   ]
  },
  {
   "cell_type": "code",
   "execution_count": 5,
   "metadata": {},
   "outputs": [
    {
     "name": "stdout",
     "output_type": "stream",
     "text": [
      "(164, 77)\n"
     ]
    }
   ],
   "source": [
    "''' \n",
    "Read data\n",
    "'''\n",
    "data = pd.read_csv(f\"{dataPath}/{dataset}\", index_col=0)\n",
    "X = data.drop(target, axis=1)\n",
    "y = data[target].ravel()\n",
    "\n",
    "'''\n",
    "Prepare preprocessing\n",
    "'''\n",
    "num_columns = X.select_dtypes(include=[\"float64\"]).columns\n",
    "bin_columns = X.select_dtypes(include=[\"int64\"]).columns\n",
    "cat_columns = X.select_dtypes(include=[\"object\"]).columns\n",
    "preprocessor = imputation_scaling(num_columns, bin_columns, cat_columns, X)\n",
    "columnOrderAfterPreprocessing = [ele[5:] for ele in preprocessor.get_feature_names_out()]\n",
    "\n",
    "''' \n",
    "Preprocess\n",
    "'''\n",
    "X_preproc = preprocessor.fit_transform(X)\n",
    "\n",
    "print(X_preproc.shape)"
   ]
  },
  {
   "cell_type": "code",
   "execution_count": 16,
   "metadata": {},
   "outputs": [
    {
     "data": {
      "text/plain": [
       "array(['the_main_reason_for_hospital_admission',\n",
       "       'saturation_measured_based_on…', 'ferritin_admission_µg/L',\n",
       "       'ldh_admission_µkat/L', 'xray_admission_pathological_n/y',\n",
       "       'xray_admission_thickenings', 'dexamethasone',\n",
       "       'dexamethasone_duration_th_days', 'crp___max', 'leukocyte_max',\n",
       "       'neutrophils', 'ferritin_max', 'ldh_max', 'maximum_oxygen_demand',\n",
       "       'treatment_attempt_for_covid19_n/y'], dtype='<U45')"
      ]
     },
     "execution_count": 16,
     "metadata": {},
     "output_type": "execute_result"
    }
   ],
   "source": [
    "''' \n",
    "Boruta\n",
    "'''\n",
    "\n",
    "perc = 100\n",
    "\n",
    "rf = RandomForestClassifier(n_jobs=-1, class_weight='balanced', max_depth=5)\n",
    "# define Boruta feature selection method\n",
    "feat_selector = BorutaPy(rf, n_estimators='auto', verbose=0, random_state=None, perc=perc)\n",
    "# find all relevant features\n",
    "feat_selector.fit(X_preproc, y)\n",
    "\n",
    "\n",
    "''' \n",
    "Get selected variables\n",
    "'''\n",
    "np.array(columnOrderAfterPreprocessing)[feat_selector.support_]"
   ]
  },
  {
   "cell_type": "code",
   "execution_count": 17,
   "metadata": {},
   "outputs": [
    {
     "name": "stdout",
     "output_type": "stream",
     "text": [
      "15\n"
     ]
    },
    {
     "data": {
      "text/plain": [
       "['the_main_reason_for_hospital_admission',\n",
       " 'saturation_measured_based_on…',\n",
       " 'ferritin_admission_µg/L',\n",
       " 'ldh_admission_µkat/L',\n",
       " 'xray_admission_pathological_n/y',\n",
       " 'xray_admission_thickenings',\n",
       " 'dexamethasone',\n",
       " 'dexamethasone_duration_th_days',\n",
       " 'crp___max',\n",
       " 'leukocyte_max',\n",
       " 'neutrophils',\n",
       " 'ferritin_max',\n",
       " 'ldh_max',\n",
       " 'maximum_oxygen_demand',\n",
       " 'treatment_attempt_for_covid19_n/y']"
      ]
     },
     "execution_count": 17,
     "metadata": {},
     "output_type": "execute_result"
    }
   ],
   "source": [
    "print(len(np.array(columnOrderAfterPreprocessing)[feat_selector.support_]))\n",
    "[ele for ele in np.array(columnOrderAfterPreprocessing)[feat_selector.support_]]"
   ]
  },
  {
   "attachments": {},
   "cell_type": "markdown",
   "metadata": {},
   "source": [
    "# Save outcome"
   ]
  },
  {
   "cell_type": "code",
   "execution_count": 18,
   "metadata": {},
   "outputs": [],
   "source": [
    "with open(f\"{resultsPath}/boruta.txt\", \"w\") as f: \n",
    "    for ele in np.array(columnOrderAfterPreprocessing)[feat_selector.support_]:\n",
    "        f.write(ele+\"\\n\")"
   ]
  },
  {
   "cell_type": "code",
   "execution_count": null,
   "metadata": {},
   "outputs": [],
   "source": []
  }
 ],
 "metadata": {
  "kernelspec": {
   "display_name": "sklearn",
   "language": "python",
   "name": "python3"
  },
  "language_info": {
   "codemirror_mode": {
    "name": "ipython",
    "version": 3
   },
   "file_extension": ".py",
   "mimetype": "text/x-python",
   "name": "python",
   "nbconvert_exporter": "python",
   "pygments_lexer": "ipython3",
   "version": "3.10.8"
  },
  "orig_nbformat": 4,
  "vscode": {
   "interpreter": {
    "hash": "eeef9510dba87210ae0cb043bf7dec66e83e58896e46516bab44cae750fc9c1b"
   }
  }
 },
 "nbformat": 4,
 "nbformat_minor": 2
}
