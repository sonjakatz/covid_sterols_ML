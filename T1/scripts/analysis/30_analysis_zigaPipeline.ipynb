{
 "cells": [
  {
   "attachments": {},
   "cell_type": "markdown",
   "metadata": {},
   "source": [
    "# LOOCV results"
   ]
  },
  {
   "cell_type": "code",
   "execution_count": 1,
   "metadata": {},
   "outputs": [],
   "source": [
    "from ast import literal_eval  \n",
    "import math   \n",
    "import matplotlib.pyplot as plt\n",
    "import numpy as np\n",
    "import os  \n",
    "import pandas as pd\n",
    "import seaborn as sns\n",
    "import time\n",
    "\n",
    "from collections import defaultdict\n",
    "from matplotlib.colors import to_rgb\n",
    "from matplotlib.collections import PolyCollection   "
   ]
  },
  {
   "cell_type": "code",
   "execution_count": 2,
   "metadata": {},
   "outputs": [],
   "source": [
    "datasetTimepoint = \"12_sterol_discoveryValidation_corrected\"\n",
    "target = \"disease_severity\"\n",
    "#### Feature selection:\n",
    "vars = \"iterativeBoruta\"    # boruta+bestSterols\n",
    "varPath = f\"../../results/featureSelection/{datasetTimepoint}/{vars}.txt\"\n",
    "sel_variables = pd.read_csv(varPath, header=None)[0].tolist()\n",
    "\n",
    "folder = f\"../../results/prediction/featureSelection/{datasetTimepoint}/{vars}/modelComparison/zigaPipeline\"\n",
    "folderFigures =  f\"../../figures\"\n",
    "os.makedirs(folderFigures, exist_ok=True)\n",
    "\n",
    "#model = \"rfc\""
   ]
  },
  {
   "cell_type": "code",
   "execution_count": 4,
   "metadata": {},
   "outputs": [],
   "source": [
    "''' Load data'''\n",
    "dataframes_before = {}\n",
    "dataframes_after = {} \n",
    "dataframes_features = {} \n",
    "dataframes_importances = {} \n",
    "\n",
    "models = ['rfc', 'gpr', 'abc','log', 'knn', 'mlp', 'gnb', 'qda', 'mcl']"
   ]
  },
  {
   "attachments": {},
   "cell_type": "markdown",
   "metadata": {},
   "source": [
    "# Scoring"
   ]
  },
  {
   "attachments": {},
   "cell_type": "markdown",
   "metadata": {},
   "source": [
    "## Scoring different models"
   ]
  },
  {
   "cell_type": "code",
   "execution_count": 5,
   "metadata": {},
   "outputs": [
    {
     "data": {
      "text/html": [
       "<div>\n",
       "<style scoped>\n",
       "    .dataframe tbody tr th:only-of-type {\n",
       "        vertical-align: middle;\n",
       "    }\n",
       "\n",
       "    .dataframe tbody tr th {\n",
       "        vertical-align: top;\n",
       "    }\n",
       "\n",
       "    .dataframe thead th {\n",
       "        text-align: right;\n",
       "    }\n",
       "</style>\n",
       "<table border=\"1\" class=\"dataframe\">\n",
       "  <thead>\n",
       "    <tr style=\"text-align: right;\">\n",
       "      <th></th>\n",
       "      <th>precision</th>\n",
       "      <th>recall</th>\n",
       "      <th>f1</th>\n",
       "      <th>accuracy</th>\n",
       "      <th>model</th>\n",
       "      <th>auc</th>\n",
       "    </tr>\n",
       "  </thead>\n",
       "  <tbody>\n",
       "    <tr>\n",
       "      <th>0</th>\n",
       "      <td>0.848684</td>\n",
       "      <td>0.962687</td>\n",
       "      <td>0.902098</td>\n",
       "      <td>0.829268</td>\n",
       "      <td>rfc</td>\n",
       "      <td>0.663682</td>\n",
       "    </tr>\n",
       "    <tr>\n",
       "      <th>0</th>\n",
       "      <td>0.820988</td>\n",
       "      <td>0.992537</td>\n",
       "      <td>0.898649</td>\n",
       "      <td>0.817073</td>\n",
       "      <td>gpr</td>\n",
       "      <td>0.587313</td>\n",
       "    </tr>\n",
       "    <tr>\n",
       "      <th>0</th>\n",
       "      <td>0.832061</td>\n",
       "      <td>0.813433</td>\n",
       "      <td>0.822642</td>\n",
       "      <td>0.713415</td>\n",
       "      <td>abc</td>\n",
       "      <td>0.540050</td>\n",
       "    </tr>\n",
       "    <tr>\n",
       "      <th>0</th>\n",
       "      <td>0.825000</td>\n",
       "      <td>0.985075</td>\n",
       "      <td>0.897959</td>\n",
       "      <td>0.817073</td>\n",
       "      <td>log</td>\n",
       "      <td>0.594776</td>\n",
       "    </tr>\n",
       "    <tr>\n",
       "      <th>0</th>\n",
       "      <td>0.830882</td>\n",
       "      <td>0.843284</td>\n",
       "      <td>0.837037</td>\n",
       "      <td>0.731707</td>\n",
       "      <td>knn</td>\n",
       "      <td>0.555473</td>\n",
       "    </tr>\n",
       "    <tr>\n",
       "      <th>0</th>\n",
       "      <td>0.806897</td>\n",
       "      <td>0.873134</td>\n",
       "      <td>0.838710</td>\n",
       "      <td>0.725610</td>\n",
       "      <td>mlp</td>\n",
       "      <td>0.410448</td>\n",
       "    </tr>\n",
       "    <tr>\n",
       "      <th>0</th>\n",
       "      <td>0.835526</td>\n",
       "      <td>0.947761</td>\n",
       "      <td>0.888112</td>\n",
       "      <td>0.804878</td>\n",
       "      <td>gnb</td>\n",
       "      <td>0.500746</td>\n",
       "    </tr>\n",
       "    <tr>\n",
       "      <th>0</th>\n",
       "      <td>0.841060</td>\n",
       "      <td>0.947761</td>\n",
       "      <td>0.891228</td>\n",
       "      <td>0.810976</td>\n",
       "      <td>qda</td>\n",
       "      <td>0.557214</td>\n",
       "    </tr>\n",
       "    <tr>\n",
       "      <th>0</th>\n",
       "      <td>0.817073</td>\n",
       "      <td>1.000000</td>\n",
       "      <td>0.899329</td>\n",
       "      <td>0.817073</td>\n",
       "      <td>mcl</td>\n",
       "      <td>0.500000</td>\n",
       "    </tr>\n",
       "  </tbody>\n",
       "</table>\n",
       "</div>"
      ],
      "text/plain": [
       "   precision    recall        f1  accuracy model       auc\n",
       "0   0.848684  0.962687  0.902098  0.829268   rfc  0.663682\n",
       "0   0.820988  0.992537  0.898649  0.817073   gpr  0.587313\n",
       "0   0.832061  0.813433  0.822642  0.713415   abc  0.540050\n",
       "0   0.825000  0.985075  0.897959  0.817073   log  0.594776\n",
       "0   0.830882  0.843284  0.837037  0.731707   knn  0.555473\n",
       "0   0.806897  0.873134  0.838710  0.725610   mlp  0.410448\n",
       "0   0.835526  0.947761  0.888112  0.804878   gnb  0.500746\n",
       "0   0.841060  0.947761  0.891228  0.810976   qda  0.557214\n",
       "0   0.817073  1.000000  0.899329  0.817073   mcl  0.500000"
      ]
     },
     "execution_count": 5,
     "metadata": {},
     "output_type": "execute_result"
    }
   ],
   "source": [
    "df_scoring = pd.DataFrame()\n",
    "for model in models:\n",
    "    df = pd.read_csv(folder+f\"/prediction_cv_test_{model}.csv\")   \n",
    "    df_scoring = pd.concat([df_scoring, df], axis=0)\n",
    "\n",
    "df_scoring.to_csv(f\"{folderFigures}/LOOCV_modelComparison_scoring.csv\", index=False)\n",
    "df_scoring"
   ]
  },
  {
   "cell_type": "code",
   "execution_count": 6,
   "metadata": {},
   "outputs": [
    {
     "data": {
      "text/plain": [
       "Text(0.5, 1.0, 'T1')"
      ]
     },
     "execution_count": 6,
     "metadata": {},
     "output_type": "execute_result"
    },
    {
     "data": {
      "image/png": "[encoded data removed]",
      "text/plain": [
       "<Figure size 1000x500 with 1 Axes>"
      ]
     },
     "metadata": {},
     "output_type": "display_data"
    }
   ],
   "source": [
    "df_scoring_plot = df_scoring.melt(\"model\")\n",
    "\n",
    "fig, ax = plt.subplots(figsize=(10,5))\n",
    "sns.barplot(data=df_scoring_plot, x=\"variable\", y=\"value\", hue=\"model\")\n",
    "ax.legend(bbox_to_anchor=(1.2, 1.02))\n",
    "ax.set_title(\"T1\")"
   ]
  },
  {
   "cell_type": "code",
   "execution_count": 7,
   "metadata": {},
   "outputs": [
    {
     "data": {
      "text/plain": [
       "precision    rfc\n",
       "recall       mcl\n",
       "f1           rfc\n",
       "accuracy     rfc\n",
       "auc          rfc\n",
       "dtype: object"
      ]
     },
     "execution_count": 7,
     "metadata": {},
     "output_type": "execute_result"
    }
   ],
   "source": [
    "df_scoring.index=df_scoring[\"model\"]\n",
    "df_scoring_bestModel = df_scoring.drop([\"model\"], axis=1)\n",
    "df_scoring_bestModel.idxmax()"
   ]
  },
  {
   "attachments": {},
   "cell_type": "markdown",
   "metadata": {},
   "source": [
    "## Feature importances"
   ]
  },
  {
   "cell_type": "code",
   "execution_count": 8,
   "metadata": {},
   "outputs": [],
   "source": [
    "model = \"rfc\"\n",
    "df_importances = pd.read_csv(folder + f\"/importances_test_{model}.csv\")   \n",
    "\n",
    "#get distribution of selection ratio\n",
    "df_importances_sf = df_importances.copy()  \n",
    "df_importances_sf[\"n\"] = np.sum(df_importances_sf.iloc[:,1:-1] > 0, axis = 1) \n",
    "N = len(df_importances_sf.columns) - 3\n",
    "df_importances_sf[\"importance\"] = df_importances_sf[\"n\"]/N    "
   ]
  },
  {
   "cell_type": "code",
   "execution_count": 9,
   "metadata": {},
   "outputs": [
    {
     "data": {
      "image/png": "[encoded data removed]",
      "text/plain": [
       "<Figure size 800x500 with 1 Axes>"
      ]
     },
     "metadata": {},
     "output_type": "display_data"
    }
   ],
   "source": [
    "models = [\"rfc\"]\n",
    "fig, axes = plt.subplots(len(models), 1, figsize=(8,5))  \n",
    "for index, model in enumerate(models):    \n",
    "    df_importances_sf_model = df_importances_sf[df_importances_sf.model == model] \n",
    "      \n",
    "    ax = sns.violinplot(data=df_importances_sf_model, inner=\"stick\", ax=axes, x=\"feature\", y=\"importance\",  order=sel_variables, cut=0, scale=\"width\") #color = sns.color_palette(\"hls\", 8)[5]     \n",
    "    ax.set_ylabel(\"Occurrences\")    #axes[index]\n",
    "    ax.set_title(model)\n",
    "    ax.tick_params(axis='x', rotation=90)"
   ]
  },
  {
   "attachments": {},
   "cell_type": "markdown",
   "metadata": {},
   "source": [
    "## Feature importances comparison between multiple models"
   ]
  },
  {
   "cell_type": "code",
   "execution_count": 10,
   "metadata": {},
   "outputs": [],
   "source": [
    "def evaluate_fi(df_importances):\n",
    "    df_importances_sf = df_importances.copy()  \n",
    "    df_importances_sf[\"n\"] = np.sum(df_importances_sf.iloc[:,1:-1] > 0, axis = 1) \n",
    "    N = len(df_importances_sf.columns) - 3\n",
    "    df_importances_sf[\"importance\"] = df_importances_sf[\"n\"]/N    \n",
    "    return df_importances_sf"
   ]
  },
  {
   "cell_type": "code",
   "execution_count": null,
   "metadata": {},
   "outputs": [],
   "source": [
    "df_fi = pd.DataFrame()\n",
    "models = [\"rfc\"] #\"gnb\", \n",
    "\n",
    "for model in models:\n",
    "    df = pd.read_csv(f\"{folder}/importances_test_{model}.csv\") \n",
    "    df = evaluate_fi(df)\n",
    "    df[\"model\"] = model\n",
    "    df_fi = pd.concat([df_fi, df], axis=0)"
   ]
  },
  {
   "cell_type": "code",
   "execution_count": null,
   "metadata": {},
   "outputs": [],
   "source": [
    "fig, axes = plt.subplots(1, 1, figsize=(8,5)) \n",
    "ax = sns.violinplot(data=df_fi, inner=\"stick\", ax=axes, x=\"feature\", y=\"importance\", hue=\"model\", order=sel_variables, cut=0, scale=\"width\") #color = sns.color_palette(\"hls\", 8)[5]     \n",
    "ax.set_ylabel(\"Occurrences\")    #axes[index]\n",
    "ax.set_title(models)\n",
    "ax.tick_params(axis='x', rotation=90)"
   ]
  },
  {
   "attachments": {},
   "cell_type": "markdown",
   "metadata": {},
   "source": [
    "# Comparison `boruta` and `allSterols`"
   ]
  },
  {
   "cell_type": "code",
   "execution_count": 12,
   "metadata": {},
   "outputs": [
    {
     "data": {
      "text/html": [
       "<div>\n",
       "<style scoped>\n",
       "    .dataframe tbody tr th:only-of-type {\n",
       "        vertical-align: middle;\n",
       "    }\n",
       "\n",
       "    .dataframe tbody tr th {\n",
       "        vertical-align: top;\n",
       "    }\n",
       "\n",
       "    .dataframe thead th {\n",
       "        text-align: right;\n",
       "    }\n",
       "</style>\n",
       "<table border=\"1\" class=\"dataframe\">\n",
       "  <thead>\n",
       "    <tr style=\"text-align: right;\">\n",
       "      <th></th>\n",
       "      <th>precision</th>\n",
       "      <th>recall</th>\n",
       "      <th>f1</th>\n",
       "      <th>accuracy</th>\n",
       "      <th>model</th>\n",
       "      <th>auc</th>\n",
       "      <th>varSet</th>\n",
       "    </tr>\n",
       "  </thead>\n",
       "  <tbody>\n",
       "    <tr>\n",
       "      <th>0</th>\n",
       "      <td>0.848684</td>\n",
       "      <td>0.962687</td>\n",
       "      <td>0.902098</td>\n",
       "      <td>0.829268</td>\n",
       "      <td>rfc</td>\n",
       "      <td>0.663682</td>\n",
       "      <td>iterativeBoruta</td>\n",
       "    </tr>\n",
       "    <tr>\n",
       "      <th>0</th>\n",
       "      <td>0.835443</td>\n",
       "      <td>0.985075</td>\n",
       "      <td>0.904110</td>\n",
       "      <td>0.829268</td>\n",
       "      <td>rfc</td>\n",
       "      <td>0.666667</td>\n",
       "      <td>allSterols</td>\n",
       "    </tr>\n",
       "  </tbody>\n",
       "</table>\n",
       "</div>"
      ],
      "text/plain": [
       "   precision    recall        f1  accuracy model       auc           varSet\n",
       "0   0.848684  0.962687  0.902098  0.829268   rfc  0.663682  iterativeBoruta\n",
       "0   0.835443  0.985075  0.904110  0.829268   rfc  0.666667       allSterols"
      ]
     },
     "execution_count": 12,
     "metadata": {},
     "output_type": "execute_result"
    }
   ],
   "source": [
    "datasetTimepoint = \"12_sterol_discoveryValidation\"\n",
    "target = \"disease_severity\"\n",
    "model = \"rfc\"\n",
    "df_scoring = pd.DataFrame()\n",
    "\n",
    "for vars in [\"iterativeBoruta\", \"allSterols\"]:\n",
    "    if vars == \"iterativeBoruta\":\n",
    "        datasetTimepoint = \"12_sterol_discoveryValidation_corrected\"\n",
    "    else:\n",
    "        datasetTimepoint = \"12_sterol_discoveryValidation\"\n",
    "        \n",
    "    folder = f\"../../results/prediction/featureSelection/{datasetTimepoint}/{vars}/modelComparison/zigaPipeline\"\n",
    "    df = pd.read_csv(f\"{folder}/prediction_cv_test_{model}.csv\") \n",
    "    df[\"varSet\"] = vars\n",
    "    df_scoring = pd.concat([df_scoring, df], axis=0)\n",
    "\n",
    "df_scoring\n"
   ]
  },
  {
   "cell_type": "code",
   "execution_count": 13,
   "metadata": {},
   "outputs": [
    {
     "data": {
      "text/plain": [
       "Text(0.5, 1.0, 'rfc')"
      ]
     },
     "execution_count": 13,
     "metadata": {},
     "output_type": "execute_result"
    },
    {
     "data": {
      "image/png": "[encoded data removed]",
      "text/plain": [
       "<Figure size 640x480 with 1 Axes>"
      ]
     },
     "metadata": {},
     "output_type": "display_data"
    }
   ],
   "source": [
    "df_scoring_plot = df_scoring.drop(\"model\", axis=1)\n",
    "df_scoring_plot = df_scoring_plot.melt(\"varSet\")\n",
    "\n",
    "fig, ax = plt.subplots()\n",
    "sns.barplot(data=df_scoring_plot, x=\"variable\", y=\"value\", hue=\"varSet\")\n",
    "ax.legend(bbox_to_anchor=(1.0, 1.02))\n",
    "ax.set_title(model)"
   ]
  },
  {
   "cell_type": "code",
   "execution_count": null,
   "metadata": {},
   "outputs": [],
   "source": [
    "def evaluate_fi(df_importances):\n",
    "    df_importances_sf = df_importances.copy()  \n",
    "    df_importances_sf[\"n\"] = np.sum(df_importances_sf.iloc[:,1:-1] > 0, axis = 1) \n",
    "    N = len(df_importances_sf.columns) - 3\n",
    "    df_importances_sf[\"importance\"] = df_importances_sf[\"n\"]/N    \n",
    "    return df_importances_sf"
   ]
  },
  {
   "cell_type": "code",
   "execution_count": null,
   "metadata": {},
   "outputs": [],
   "source": [
    "datasetTimepoint = \"12_sterol_discoveryValidation\"\n",
    "target = \"disease_severity\"\n",
    "model = \"rfc\"\n",
    "df_fi = pd.DataFrame()\n",
    "\n",
    "for vars in [\"boruta\", \"allSterols\"]:\n",
    "    folder = f\"../../results/prediction/featureSelection/{datasetTimepoint}/{vars}/modelComparison/zigaPipeline\"\n",
    "    df = pd.read_csv(f\"{folder}/importances_test_{model}.csv\") \n",
    "    df = evaluate_fi(df)\n",
    "    df[\"varSet\"] = vars\n",
    "    df_fi = pd.concat([df_fi, df], axis=0)"
   ]
  },
  {
   "cell_type": "code",
   "execution_count": null,
   "metadata": {},
   "outputs": [],
   "source": [
    "models = [\"rfc\"]\n",
    "fig, axes = plt.subplots(len(models), 1, figsize=(12,5))  \n",
    "for index, model in enumerate(models):    \n",
    "    df_importances_sf_model = df_fi[df_fi.model == model] \n",
    "      \n",
    "    ax = sns.violinplot(data=df_importances_sf_model, inner=\"stick\", ax=axes, x=\"feature\", y=\"importance\", hue=\"varSet\", cut=0, scale=\"width\") #color = sns.color_palette(\"hls\", 8)[5]     \n",
    "    ax.set_ylabel(\"Occurrences\")    #axes[index]\n",
    "    ax.set_title(model)\n",
    "    ax.tick_params(axis='x', rotation=90)"
   ]
  },
  {
   "cell_type": "code",
   "execution_count": null,
   "metadata": {},
   "outputs": [],
   "source": []
  }
 ],
 "metadata": {
  "kernelspec": {
   "display_name": "sklearn",
   "language": "python",
   "name": "python3"
  },
  "language_info": {
   "codemirror_mode": {
    "name": "ipython",
    "version": 3
   },
   "file_extension": ".py",
   "mimetype": "text/x-python",
   "name": "python",
   "nbconvert_exporter": "python",
   "pygments_lexer": "ipython3",
   "version": "3.10.8"
  },
  "orig_nbformat": 4,
  "vscode": {
   "interpreter": {
    "hash": "eeef9510dba87210ae0cb043bf7dec66e83e58896e46516bab44cae750fc9c1b"
   }
  }
 },
 "nbformat": 4,
 "nbformat_minor": 2
}
