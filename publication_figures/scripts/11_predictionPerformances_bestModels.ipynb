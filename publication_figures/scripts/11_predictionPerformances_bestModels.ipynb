{
 "cells": [
  {
   "cell_type": "code",
   "execution_count": 2,
   "metadata": {},
   "outputs": [],
   "source": [
    "import matplotlib.pyplot as plt\n",
    "import numpy as np\n",
    "import os  \n",
    "import pandas as pd\n",
    "import seaborn as sns\n",
    "import time"
   ]
  },
  {
   "cell_type": "code",
   "execution_count": 12,
   "metadata": {},
   "outputs": [],
   "source": [
    "sns.set_theme(style=\"whitegrid\", palette=sns.husl_palette(l=.4, n_colors=3), font_scale=1.8, context=\"paper\")"
   ]
  },
  {
   "attachments": {},
   "cell_type": "markdown",
   "metadata": {},
   "source": [
    "# Scoring best models: `clinical`, `clinical+T1`, `T1`"
   ]
  },
  {
   "cell_type": "code",
   "execution_count": 5,
   "metadata": {},
   "outputs": [
    {
     "name": "stdout",
     "output_type": "stream",
     "text": [
      "T1\n",
      "clinical\n",
      "clinical_T1\n"
     ]
    }
   ],
   "source": [
    "df_scoring = pd.DataFrame()\n",
    "\n",
    "bestModels = {\"T1\":\"rfc\", \n",
    "              \"clinical\":\"gnb\",\n",
    "              \"clinical_T1\":\"rfc\"}\n",
    "titles =  {\"T1\":\"T1 sterols\",\n",
    "            \"clinical\":\"clinical\",\n",
    "            \"clinical_T1\":\"clinical + T1 sterols\"}\n",
    "\n",
    "\n",
    "for dataset, model in bestModels.items():\n",
    "    print(dataset)\n",
    "    if dataset == \"T1\": \n",
    "        timepoint = \"12_sterol_discoveryValidation_corrected\" \n",
    "        fs = \"iterativeBoruta\"\n",
    "    else: timepoint = \"12_uponAdmission\"\n",
    "    if dataset == \"clinical_T1\":\n",
    "        fs = \"clinical+bestSterols\"\n",
    "    if dataset == \"clinical\": \n",
    "        fs = \"boruta\"\n",
    "\n",
    "    df = pd.read_csv(f\"../../{dataset}/results/prediction/featureSelection/{timepoint}/{fs}/modelComparison/zigaPipeline/prediction_cv_test_{model}.csv\") \n",
    "    ''' Change name for plot '''\n",
    "    df[\"varSet\"] = titles[dataset]\n",
    "    df_scoring = pd.concat([df_scoring, df], axis=0)"
   ]
  },
  {
   "cell_type": "code",
   "execution_count": 6,
   "metadata": {},
   "outputs": [
    {
     "data": {
      "text/html": [
       "<div>\n",
       "<style scoped>\n",
       "    .dataframe tbody tr th:only-of-type {\n",
       "        vertical-align: middle;\n",
       "    }\n",
       "\n",
       "    .dataframe tbody tr th {\n",
       "        vertical-align: top;\n",
       "    }\n",
       "\n",
       "    .dataframe thead th {\n",
       "        text-align: right;\n",
       "    }\n",
       "</style>\n",
       "<table border=\"1\" class=\"dataframe\">\n",
       "  <thead>\n",
       "    <tr style=\"text-align: right;\">\n",
       "      <th></th>\n",
       "      <th>precision</th>\n",
       "      <th>recall</th>\n",
       "      <th>f1</th>\n",
       "      <th>accuracy</th>\n",
       "      <th>model</th>\n",
       "      <th>auc</th>\n",
       "      <th>varSet</th>\n",
       "    </tr>\n",
       "  </thead>\n",
       "  <tbody>\n",
       "    <tr>\n",
       "      <th>0</th>\n",
       "      <td>0.848684</td>\n",
       "      <td>0.962687</td>\n",
       "      <td>0.902098</td>\n",
       "      <td>0.829268</td>\n",
       "      <td>rfc</td>\n",
       "      <td>0.663682</td>\n",
       "      <td>T1 sterols</td>\n",
       "    </tr>\n",
       "    <tr>\n",
       "      <th>0</th>\n",
       "      <td>0.976000</td>\n",
       "      <td>0.910448</td>\n",
       "      <td>0.942085</td>\n",
       "      <td>0.908537</td>\n",
       "      <td>gnb</td>\n",
       "      <td>0.954726</td>\n",
       "      <td>clinical</td>\n",
       "    </tr>\n",
       "    <tr>\n",
       "      <th>0</th>\n",
       "      <td>0.926471</td>\n",
       "      <td>0.940299</td>\n",
       "      <td>0.933333</td>\n",
       "      <td>0.890244</td>\n",
       "      <td>rfc</td>\n",
       "      <td>0.949502</td>\n",
       "      <td>clinical + T1 sterols</td>\n",
       "    </tr>\n",
       "  </tbody>\n",
       "</table>\n",
       "</div>"
      ],
      "text/plain": [
       "   precision    recall        f1  accuracy model       auc  \\\n",
       "0   0.848684  0.962687  0.902098  0.829268   rfc  0.663682   \n",
       "0   0.976000  0.910448  0.942085  0.908537   gnb  0.954726   \n",
       "0   0.926471  0.940299  0.933333  0.890244   rfc  0.949502   \n",
       "\n",
       "                  varSet  \n",
       "0             T1 sterols  \n",
       "0               clinical  \n",
       "0  clinical + T1 sterols  "
      ]
     },
     "execution_count": 6,
     "metadata": {},
     "output_type": "execute_result"
    }
   ],
   "source": [
    "df_scoring"
   ]
  },
  {
   "cell_type": "code",
   "execution_count": 13,
   "metadata": {},
   "outputs": [
    {
     "data": {
      "image/png": "[encoded data removed]",
      "text/plain": [
       "<Figure size 1000x600 with 1 Axes>"
      ]
     },
     "metadata": {},
     "output_type": "display_data"
    }
   ],
   "source": [
    "df_scoring_plot = df_scoring.drop(\"model\", axis=1)\n",
    "df_scoring_plot = df_scoring_plot.melt(\"varSet\")\n",
    "\n",
    "fig, ax = plt.subplots(figsize=(10,6))\n",
    "sns.barplot(data=df_scoring_plot, x=\"variable\", y=\"value\", hue=\"varSet\")\n",
    "ax.legend(bbox_to_anchor=(1.0, 1.02))\n",
    "ax.set_ylim(0,1)\n",
    "ax.set_xlabel(\"\")\n",
    "ax.set_ylabel(\"\")\n",
    "plt.tight_layout()\n",
    "fig.savefig(\"../figures/bestModelScoring.png\", dpi=300)"
   ]
  },
  {
   "cell_type": "code",
   "execution_count": null,
   "metadata": {},
   "outputs": [],
   "source": []
  }
 ],
 "metadata": {
  "kernelspec": {
   "display_name": "sklearn",
   "language": "python",
   "name": "python3"
  },
  "language_info": {
   "codemirror_mode": {
    "name": "ipython",
    "version": 3
   },
   "file_extension": ".py",
   "mimetype": "text/x-python",
   "name": "python",
   "nbconvert_exporter": "python",
   "pygments_lexer": "ipython3",
   "version": "3.10.8"
  },
  "orig_nbformat": 4,
  "vscode": {
   "interpreter": {
    "hash": "eeef9510dba87210ae0cb043bf7dec66e83e58896e46516bab44cae750fc9c1b"
   }
  }
 },
 "nbformat": 4,
 "nbformat_minor": 2
}
