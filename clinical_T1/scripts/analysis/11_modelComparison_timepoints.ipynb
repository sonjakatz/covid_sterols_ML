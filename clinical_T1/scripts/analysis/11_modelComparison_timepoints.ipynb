{
 "cells": [
  {
   "attachments": {},
   "cell_type": "markdown",
   "metadata": {},
   "source": [
    "# Evaluate different models for datasets"
   ]
  },
  {
   "cell_type": "code",
   "execution_count": 1,
   "metadata": {},
   "outputs": [],
   "source": [
    "import os\n",
    "import pandas as pd\n",
    "import numpy as np\n",
    "import json\n",
    "import matplotlib.pyplot as plt \n",
    "import seaborn as sns\n",
    "\n",
    "sns.set_theme(style=\"whitegrid\", palette=None, font_scale=1.2)"
   ]
  },
  {
   "attachments": {},
   "cell_type": "markdown",
   "metadata": {},
   "source": [
    "# 1 single dataset"
   ]
  },
  {
   "cell_type": "code",
   "execution_count": null,
   "metadata": {},
   "outputs": [],
   "source": [
    "'''\n",
    "Define paths\n",
    "'''\n",
    "dataset = \"12_uponAdmission\"\n",
    "vars = \"boruta\"\n",
    "varPath = f\"../../results/featureSelection/{dataset}/{vars}.txt\"\n",
    "resultsPath = f\"../../results/prediction/featureSelection/{dataset}/{vars}/modelComparison\"\n",
    "\n",
    "''' \n",
    "Read in scores\n",
    "'''\n",
    "input = pd.DataFrame()\n",
    "for file in os.listdir(resultsPath):\n",
    "    if file.endswith(\"score.csv\"):\n",
    "        input = pd.concat([input,pd.read_csv(f\"{resultsPath}/{file}\")], axis=0, ignore_index=True)\n",
    "\n",
    "''' \n",
    "Plot\n",
    "'''\n",
    "df_plot = input.drop([\"fit_time\", \"score_time\"], axis=1)\n",
    "print(input[input[\"model\"] == \"RandomForest\"].mean())\n",
    "df_plot = df_plot.melt(\"model\")\n",
    "\n",
    "fig, ax = plt.subplots(figsize=(13,6))\n",
    "sns.boxplot(data=df_plot, x=\"variable\", y=\"value\", hue=\"model\")\n",
    "ax.tick_params(axis='x', rotation=90)\n",
    "plt.legend(bbox_to_anchor=(1.05, 1), loc='upper left', borderaxespad=0)\n",
    "ax.set_xlabel(\"\")\n",
    "ax.set_title(f\"{dataset}\")\n",
    "\n",
    "''' \n",
    "Additional plot: feature importance\n",
    "'''\n",
    "df = pd.read_csv(f\"{resultsPath}/RandomForest_featureImportance.csv\")\n",
    "fig, ax = plt.subplots(figsize=(10,5))\n",
    "plt.bar(df[\"var\"], df[\"fi\"])\n",
    "ax.tick_params(axis='x', rotation=90)\n",
    "plt.title(f\"{dataset}\")"
   ]
  },
  {
   "attachments": {},
   "cell_type": "markdown",
   "metadata": {},
   "source": [
    "# Compare different datasets"
   ]
  },
  {
   "cell_type": "code",
   "execution_count": null,
   "metadata": {},
   "outputs": [],
   "source": [
    "'''\n",
    "Define paths\n",
    "'''\n",
    "model = \"RandomForest\"\n",
    "\n",
    "input = pd.DataFrame()\n",
    "for dataset in [\"12_uponAdmission\", \"12_hospitalization\"]: # 12_beforeAdmission\n",
    "    vars = \"boruta\"\n",
    "    varPath = f\"../../results/featureSelection/{dataset}/{vars}.txt\"\n",
    "    resultsPath = f\"../../results/prediction/featureSelection/{dataset}/{vars}/modelComparison\"\n",
    "\n",
    "    ''' \n",
    "    Read in scores\n",
    "    '''\n",
    "    for file in os.listdir(resultsPath):\n",
    "        if file.endswith(\"score.csv\"):\n",
    "            tmp = pd.read_csv(f\"{resultsPath}/{file}\")\n",
    "            tmp[\"dataset\"] = dataset.split(\"_\")[1]\n",
    "            input = pd.concat([input,tmp], axis=0, ignore_index=True)\n",
    "\n",
    "\n",
    "''' \n",
    "Plot\n",
    "'''\n",
    "df_plot = input[input[\"model\"] == model]\n",
    "df_plot = df_plot.drop([\"fit_time\", \"score_time\", \"model\"], axis=1)\n",
    "df_plot = df_plot.melt(\"dataset\")\n",
    "\n",
    "fig, ax = plt.subplots(figsize=(13,6))\n",
    "sns.boxplot(data=df_plot, x=\"variable\", y=\"value\", hue=\"dataset\")\n",
    "ax.tick_params(axis='x', rotation=90)\n",
    "plt.legend(bbox_to_anchor=(1.05, 1), loc='upper left', borderaxespad=0)\n",
    "ax.set_xlabel(\"\")\n",
    "ax.set_title(f\"all datasets\")"
   ]
  },
  {
   "cell_type": "code",
   "execution_count": null,
   "metadata": {},
   "outputs": [],
   "source": [
    "df_plot"
   ]
  },
  {
   "cell_type": "code",
   "execution_count": null,
   "metadata": {},
   "outputs": [],
   "source": []
  },
  {
   "cell_type": "code",
   "execution_count": null,
   "metadata": {},
   "outputs": [],
   "source": []
  },
  {
   "cell_type": "code",
   "execution_count": null,
   "metadata": {},
   "outputs": [],
   "source": []
  }
 ],
 "metadata": {
  "kernelspec": {
   "display_name": "sklearn",
   "language": "python",
   "name": "python3"
  },
  "language_info": {
   "codemirror_mode": {
    "name": "ipython",
    "version": 3
   },
   "file_extension": ".py",
   "mimetype": "text/x-python",
   "name": "python",
   "nbconvert_exporter": "python",
   "pygments_lexer": "ipython3",
   "version": "3.10.8 | packaged by conda-forge | (main, Nov 22 2022, 08:26:04) [GCC 10.4.0]"
  },
  "orig_nbformat": 4,
  "vscode": {
   "interpreter": {
    "hash": "eeef9510dba87210ae0cb043bf7dec66e83e58896e46516bab44cae750fc9c1b"
   }
  }
 },
 "nbformat": 4,
 "nbformat_minor": 2
}
