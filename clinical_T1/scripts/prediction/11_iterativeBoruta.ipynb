{
 "cells": [
  {
   "cell_type": "code",
   "execution_count": 1,
   "metadata": {},
   "outputs": [],
   "source": [
    "import os \n",
    "import pandas as pd \n",
    "import numpy as np\n",
    "from boruta import BorutaPy\n",
    "from preprocessing import run_iterativeBoruta, imputation_scaling\n",
    "import json\n",
    "import matplotlib.pyplot as plt\n",
    "\n",
    "from sklearn.ensemble import RandomForestClassifier"
   ]
  },
  {
   "attachments": {},
   "cell_type": "markdown",
   "metadata": {},
   "source": [
    "# Boruta"
   ]
  },
  {
   "cell_type": "code",
   "execution_count": 2,
   "metadata": {},
   "outputs": [],
   "source": [
    "datasetTimepoint = \"12_uponAdmission\"\n",
    "target = \"disease_severity\"\n",
    "\n",
    "''' \n",
    "Define paths\n",
    "'''\n",
    "dataPath = \"../../results/preprocessing/cleaned\"\n",
    "dataset = f\"{datasetTimepoint}_{target}_cleaned.csv\"\n",
    "resultsPath = f\"../../results/featureSelection/{datasetTimepoint}\"\n",
    "os.makedirs(resultsPath, exist_ok=True)"
   ]
  },
  {
   "cell_type": "code",
   "execution_count": 3,
   "metadata": {},
   "outputs": [
    {
     "name": "stdout",
     "output_type": "stream",
     "text": [
      "(164, 87)\n"
     ]
    }
   ],
   "source": [
    "''' \n",
    "Read data\n",
    "'''\n",
    "data = pd.read_csv(f\"{dataPath}/{dataset}\", index_col=0)\n",
    "X = data.drop(target, axis=1)\n",
    "y = data[target].ravel()\n",
    "\n",
    "'''\n",
    "Prepare preprocessing\n",
    "'''\n",
    "num_columns = X.select_dtypes(include=[\"float64\"]).columns\n",
    "bin_columns = X.select_dtypes(include=[\"int64\"]).columns\n",
    "cat_columns = X.select_dtypes(include=[\"object\"]).columns\n",
    "preprocessor = imputation_scaling(num_columns, bin_columns, cat_columns, X)\n",
    "columnOrderAfterPreprocessing = [ele[5:] for ele in preprocessor.get_feature_names_out()]\n",
    "\n",
    "''' \n",
    "Preprocess\n",
    "'''\n",
    "X_preproc = preprocessor.fit_transform(X)\n",
    "\n",
    "print(X_preproc.shape)"
   ]
  },
  {
   "attachments": {},
   "cell_type": "markdown",
   "metadata": {},
   "source": [
    "# Run iterative Boruta"
   ]
  },
  {
   "cell_type": "code",
   "execution_count": 4,
   "metadata": {},
   "outputs": [
    {
     "name": "stdout",
     "output_type": "stream",
     "text": [
      "Round 1 of 100\n",
      "Round 2 of 100\n",
      "Round 3 of 100\n",
      "Round 4 of 100\n",
      "Round 5 of 100\n",
      "Round 6 of 100\n",
      "Round 7 of 100\n",
      "Round 8 of 100\n",
      "Round 9 of 100\n",
      "Round 10 of 100\n",
      "Round 11 of 100\n",
      "Round 12 of 100\n",
      "Round 13 of 100\n",
      "Round 14 of 100\n",
      "Round 15 of 100\n",
      "Round 16 of 100\n",
      "Round 17 of 100\n",
      "Round 18 of 100\n",
      "Round 19 of 100\n",
      "Round 20 of 100\n",
      "Round 21 of 100\n",
      "Round 22 of 100\n",
      "Round 23 of 100\n",
      "Round 24 of 100\n",
      "Round 25 of 100\n",
      "Round 26 of 100\n",
      "Round 27 of 100\n",
      "Round 28 of 100\n",
      "Round 29 of 100\n",
      "Round 30 of 100\n",
      "Round 31 of 100\n",
      "Round 32 of 100\n",
      "Round 33 of 100\n",
      "Round 34 of 100\n",
      "Round 35 of 100\n",
      "Round 36 of 100\n",
      "Round 37 of 100\n",
      "Round 38 of 100\n",
      "Round 39 of 100\n",
      "Round 40 of 100\n",
      "Round 41 of 100\n",
      "Round 42 of 100\n",
      "Round 43 of 100\n",
      "Round 44 of 100\n",
      "Round 45 of 100\n",
      "Round 46 of 100\n",
      "Round 47 of 100\n",
      "Round 48 of 100\n",
      "Round 49 of 100\n",
      "Round 50 of 100\n",
      "Round 51 of 100\n",
      "Round 52 of 100\n",
      "Round 53 of 100\n",
      "Round 54 of 100\n",
      "Round 55 of 100\n",
      "Round 56 of 100\n",
      "Round 57 of 100\n",
      "Round 58 of 100\n",
      "Round 59 of 100\n",
      "Round 60 of 100\n",
      "Round 61 of 100\n",
      "Round 62 of 100\n",
      "Round 63 of 100\n",
      "Round 64 of 100\n",
      "Round 65 of 100\n",
      "Round 66 of 100\n",
      "Round 67 of 100\n",
      "Round 68 of 100\n",
      "Round 69 of 100\n",
      "Round 70 of 100\n",
      "Round 71 of 100\n",
      "Round 72 of 100\n",
      "Round 73 of 100\n",
      "Round 74 of 100\n",
      "Round 75 of 100\n",
      "Round 76 of 100\n",
      "Round 77 of 100\n",
      "Round 78 of 100\n",
      "Round 79 of 100\n",
      "Round 80 of 100\n",
      "Round 81 of 100\n",
      "Round 82 of 100\n",
      "Round 83 of 100\n",
      "Round 84 of 100\n",
      "Round 85 of 100\n",
      "Round 86 of 100\n",
      "Round 87 of 100\n",
      "Round 88 of 100\n",
      "Round 89 of 100\n",
      "Round 90 of 100\n",
      "Round 91 of 100\n",
      "Round 92 of 100\n",
      "Round 93 of 100\n",
      "Round 94 of 100\n",
      "Round 95 of 100\n",
      "Round 96 of 100\n",
      "Round 97 of 100\n",
      "Round 98 of 100\n",
      "Round 99 of 100\n",
      "Round 100 of 100\n"
     ]
    }
   ],
   "source": [
    "''' Iterative Boruta'''\n",
    "n_iter = 100\n",
    "perc = 100\n",
    "dict_iterBoruta = run_iterativeBoruta(X=X_preproc,\n",
    "                                      y=y, \n",
    "                                      cols=columnOrderAfterPreprocessing, \n",
    "                                      perc=perc,\n",
    "                                      n_iter=n_iter)\n",
    "\n",
    "''' Save '''\n",
    "with open(f\"{resultsPath}/iterativeBoruta_{perc}perc.json\", \"w\") as f: json.dump(dict_iterBoruta, f, indent=4)"
   ]
  },
  {
   "cell_type": "code",
   "execution_count": 8,
   "metadata": {},
   "outputs": [
    {
     "data": {
      "text/plain": [
       "{'the_main_reason_for_hospital_admission': 1.0,\n",
       " 'saturation_measured_based_on…': 1.0,\n",
       " 'ferritin_admission_µg/L': 1.0,\n",
       " 'ldh_admission_µkat/L': 1.0,\n",
       " 'xray_admission_pathological_n/y': 1.0,\n",
       " 'xray_admission_thickenings': 1.0,\n",
       " 'saturation_%': 0.96,\n",
       " 'crp_admission_mg/L': 1.0,\n",
       " '24-dehydrolathosterol': 0.12,\n",
       " 'desmosterol': 0.01}"
      ]
     },
     "execution_count": 8,
     "metadata": {},
     "output_type": "execute_result"
    }
   ],
   "source": [
    "''' Load data '''\n",
    "perc=100\n",
    "with open(f\"{resultsPath}/iterativeBoruta_{perc}perc.json\", \"r\") as f: dict_iterBoruta = json.load(f)\n",
    "dict_iterBoruta"
   ]
  },
  {
   "cell_type": "code",
   "execution_count": 9,
   "metadata": {},
   "outputs": [
    {
     "name": "stderr",
     "output_type": "stream",
     "text": [
      "/tmp/ipykernel_3066820/2047734180.py:4: UserWarning: FixedFormatter should only be used together with FixedLocator\n",
      "  ax.set_xticklabels(df[0],rotation=90)\n"
     ]
    },
    {
     "data": {
      "image/png": "[encoded data removed]",
      "text/plain": [
       "<Figure size 640x480 with 1 Axes>"
      ]
     },
     "metadata": {},
     "output_type": "display_data"
    }
   ],
   "source": [
    "fig, ax = plt.subplots()\n",
    "df = pd.DataFrame(dict_iterBoruta.items())\n",
    "ax.bar(x=df[0], height=df[1])\n",
    "ax.set_xticklabels(df[0],rotation=90)\n",
    "plt.show()"
   ]
  },
  {
   "cell_type": "code",
   "execution_count": null,
   "metadata": {},
   "outputs": [],
   "source": [
    "''' Save those above threshold (50%)?'''\n",
    "thresh = 0.5\n",
    "\n",
    "with open(f\"{resultsPath}/iterativeBoruta.txt\", \"w\") as f: \n",
    "    for key, val in dict_iterBoruta.items():\n",
    "        if val > thresh: \n",
    "            f.write(key+\"\\n\")"
   ]
  },
  {
   "cell_type": "code",
   "execution_count": null,
   "metadata": {},
   "outputs": [],
   "source": []
  }
 ],
 "metadata": {
  "kernelspec": {
   "display_name": "sklearn",
   "language": "python",
   "name": "python3"
  },
  "language_info": {
   "codemirror_mode": {
    "name": "ipython",
    "version": 3
   },
   "file_extension": ".py",
   "mimetype": "text/x-python",
   "name": "python",
   "nbconvert_exporter": "python",
   "pygments_lexer": "ipython3",
   "version": "3.10.8"
  },
  "orig_nbformat": 4,
  "vscode": {
   "interpreter": {
    "hash": "eeef9510dba87210ae0cb043bf7dec66e83e58896e46516bab44cae750fc9c1b"
   }
  }
 },
 "nbformat": 4,
 "nbformat_minor": 2
}
